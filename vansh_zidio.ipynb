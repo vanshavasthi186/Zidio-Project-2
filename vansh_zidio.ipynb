{
  "cells": [
    {
      "cell_type": "code",
      "execution_count": 57,
      "metadata": {
        "id": "mL7HLYQFXW-c"
      },
      "outputs": [],
      "source": [
        "import numpy as np\n",
        "import pandas as pd\n",
        "import matplotlib.pyplot as plt\n",
        "import seaborn as sns\n",
        "from sklearn.cluster import KMeans"
      ]
    },
    {
      "cell_type": "code",
      "execution_count": 58,
      "metadata": {
        "id": "CuhKJ2q2aekE"
      },
      "outputs": [],
      "source": [
        "customer_data = pd.read_csv('/content/Mall_Customers.csv')"
      ]
    },
    {
      "cell_type": "code",
      "execution_count": 59,
      "metadata": {
        "colab": {
          "base_uri": "https://localhost:8080/"
        },
        "id": "r0R6gbCklGZW",
        "outputId": "f505dd3f-4849-4cf6-eb9a-657862c323b9"
      },
      "outputs": [
        {
          "name": "stdout",
          "output_type": "stream",
          "text": [
            "   CustomerID  Gender  Age  Annual Income (k$)  Spending Score (1-100)\n",
            "0           1    Male   19                  15                      39\n",
            "1           2    Male   21                  15                      81\n",
            "2           3  Female   20                  16                       6\n",
            "3           4  Female   23                  16                      77\n",
            "4           5  Female   31                  17                      40\n",
            "5           6  Female   22                  17                      76\n",
            "6           7  Female   35                  18                       6\n",
            "7           8  Female   23                  18                      94\n",
            "8           9    Male   64                  19                       3\n",
            "9          10  Female   30                  19                      72\n"
          ]
        }
      ],
      "source": [
        "data = pd.read_csv('Mall_Customers.csv')\n",
        "print(data.head(10))"
      ]
    },
    {
      "cell_type": "code",
      "execution_count": 60,
      "metadata": {
        "colab": {
          "base_uri": "https://localhost:8080/"
        },
        "id": "TJ0nay16nSqV",
        "outputId": "8c7bf95d-9db8-4889-ee00-b0ec40a92b9f"
      },
      "outputs": [
        {
          "name": "stdout",
          "output_type": "stream",
          "text": [
            "Shape of the dataset: (200, 5)\n"
          ]
        }
      ],
      "source": [
        "print(\"Shape of the dataset:\",data.shape)\n"
      ]
    },
    {
      "cell_type": "code",
      "execution_count": 61,
      "metadata": {
        "colab": {
          "base_uri": "https://localhost:8080/"
        },
        "id": "WXno8u9KoyXz",
        "outputId": "fdea6d10-ba75-4d88-e911-ce0a6af26644"
      },
      "outputs": [
        {
          "name": "stdout",
          "output_type": "stream",
          "text": [
            "<class 'pandas.core.frame.DataFrame'>\n",
            "RangeIndex: 200 entries, 0 to 199\n",
            "Data columns (total 5 columns):\n",
            " #   Column                  Non-Null Count  Dtype \n",
            "---  ------                  --------------  ----- \n",
            " 0   CustomerID              200 non-null    int64 \n",
            " 1   Gender                  200 non-null    object\n",
            " 2   Age                     200 non-null    int64 \n",
            " 3   Annual Income (k$)      200 non-null    int64 \n",
            " 4   Spending Score (1-100)  200 non-null    int64 \n",
            "dtypes: int64(4), object(1)\n",
            "memory usage: 7.9+ KB\n",
            "None\n"
          ]
        }
      ],
      "source": [
        "print(data.info())"
      ]
    },
    {
      "cell_type": "code",
      "execution_count": 62,
      "metadata": {
        "colab": {
          "base_uri": "https://localhost:8080/"
        },
        "id": "JJo4wP4ao5jL",
        "outputId": "efb60791-887d-49d2-deae-b141a411f29d"
      },
      "outputs": [
        {
          "name": "stdout",
          "output_type": "stream",
          "text": [
            "CustomerID                0\n",
            "Gender                    0\n",
            "Age                       0\n",
            "Annual Income (k$)        0\n",
            "Spending Score (1-100)    0\n",
            "dtype: int64\n"
          ]
        }
      ],
      "source": [
        "print(data.isnull().sum())"
      ]
    },
    {
      "cell_type": "code",
      "execution_count": 63,
      "metadata": {
        "id": "lUGGUVgipKCm"
      },
      "outputs": [],
      "source": [
        "X = customer_data.iloc[:,[4,4]].values"
      ]
    },
    {
      "cell_type": "code",
      "execution_count": 64,
      "metadata": {
        "colab": {
          "base_uri": "https://localhost:8080/"
        },
        "id": "pn-Z2eEBp7NC",
        "outputId": "7387faaa-e499-4c6f-dadf-175114271ddc"
      },
      "outputs": [
        {
          "name": "stdout",
          "output_type": "stream",
          "text": [
            "[[39 39]\n",
            " [81 81]\n",
            " [ 6  6]\n",
            " [77 77]\n",
            " [40 40]\n",
            " [76 76]\n",
            " [ 6  6]\n",
            " [94 94]\n",
            " [ 3  3]\n",
            " [72 72]\n",
            " [14 14]\n",
            " [99 99]\n",
            " [15 15]\n",
            " [77 77]\n",
            " [13 13]\n",
            " [79 79]\n",
            " [35 35]\n",
            " [66 66]\n",
            " [29 29]\n",
            " [98 98]\n",
            " [35 35]\n",
            " [73 73]\n",
            " [ 5  5]\n",
            " [73 73]\n",
            " [14 14]\n",
            " [82 82]\n",
            " [32 32]\n",
            " [61 61]\n",
            " [31 31]\n",
            " [87 87]\n",
            " [ 4  4]\n",
            " [73 73]\n",
            " [ 4  4]\n",
            " [92 92]\n",
            " [14 14]\n",
            " [81 81]\n",
            " [17 17]\n",
            " [73 73]\n",
            " [26 26]\n",
            " [75 75]\n",
            " [35 35]\n",
            " [92 92]\n",
            " [36 36]\n",
            " [61 61]\n",
            " [28 28]\n",
            " [65 65]\n",
            " [55 55]\n",
            " [47 47]\n",
            " [42 42]\n",
            " [42 42]\n",
            " [52 52]\n",
            " [60 60]\n",
            " [54 54]\n",
            " [60 60]\n",
            " [45 45]\n",
            " [41 41]\n",
            " [50 50]\n",
            " [46 46]\n",
            " [51 51]\n",
            " [46 46]\n",
            " [56 56]\n",
            " [55 55]\n",
            " [52 52]\n",
            " [59 59]\n",
            " [51 51]\n",
            " [59 59]\n",
            " [50 50]\n",
            " [48 48]\n",
            " [59 59]\n",
            " [47 47]\n",
            " [55 55]\n",
            " [42 42]\n",
            " [49 49]\n",
            " [56 56]\n",
            " [47 47]\n",
            " [54 54]\n",
            " [53 53]\n",
            " [48 48]\n",
            " [52 52]\n",
            " [42 42]\n",
            " [51 51]\n",
            " [55 55]\n",
            " [41 41]\n",
            " [44 44]\n",
            " [57 57]\n",
            " [46 46]\n",
            " [58 58]\n",
            " [55 55]\n",
            " [60 60]\n",
            " [46 46]\n",
            " [55 55]\n",
            " [41 41]\n",
            " [49 49]\n",
            " [40 40]\n",
            " [42 42]\n",
            " [52 52]\n",
            " [47 47]\n",
            " [50 50]\n",
            " [42 42]\n",
            " [49 49]\n",
            " [41 41]\n",
            " [48 48]\n",
            " [59 59]\n",
            " [55 55]\n",
            " [56 56]\n",
            " [42 42]\n",
            " [50 50]\n",
            " [46 46]\n",
            " [43 43]\n",
            " [48 48]\n",
            " [52 52]\n",
            " [54 54]\n",
            " [42 42]\n",
            " [46 46]\n",
            " [48 48]\n",
            " [50 50]\n",
            " [43 43]\n",
            " [59 59]\n",
            " [43 43]\n",
            " [57 57]\n",
            " [56 56]\n",
            " [40 40]\n",
            " [58 58]\n",
            " [91 91]\n",
            " [29 29]\n",
            " [77 77]\n",
            " [35 35]\n",
            " [95 95]\n",
            " [11 11]\n",
            " [75 75]\n",
            " [ 9  9]\n",
            " [75 75]\n",
            " [34 34]\n",
            " [71 71]\n",
            " [ 5  5]\n",
            " [88 88]\n",
            " [ 7  7]\n",
            " [73 73]\n",
            " [10 10]\n",
            " [72 72]\n",
            " [ 5  5]\n",
            " [93 93]\n",
            " [40 40]\n",
            " [87 87]\n",
            " [12 12]\n",
            " [97 97]\n",
            " [36 36]\n",
            " [74 74]\n",
            " [22 22]\n",
            " [90 90]\n",
            " [17 17]\n",
            " [88 88]\n",
            " [20 20]\n",
            " [76 76]\n",
            " [16 16]\n",
            " [89 89]\n",
            " [ 1  1]\n",
            " [78 78]\n",
            " [ 1  1]\n",
            " [73 73]\n",
            " [35 35]\n",
            " [83 83]\n",
            " [ 5  5]\n",
            " [93 93]\n",
            " [26 26]\n",
            " [75 75]\n",
            " [20 20]\n",
            " [95 95]\n",
            " [27 27]\n",
            " [63 63]\n",
            " [13 13]\n",
            " [75 75]\n",
            " [10 10]\n",
            " [92 92]\n",
            " [13 13]\n",
            " [86 86]\n",
            " [15 15]\n",
            " [69 69]\n",
            " [14 14]\n",
            " [90 90]\n",
            " [32 32]\n",
            " [86 86]\n",
            " [15 15]\n",
            " [88 88]\n",
            " [39 39]\n",
            " [97 97]\n",
            " [24 24]\n",
            " [68 68]\n",
            " [17 17]\n",
            " [85 85]\n",
            " [23 23]\n",
            " [69 69]\n",
            " [ 8  8]\n",
            " [91 91]\n",
            " [16 16]\n",
            " [79 79]\n",
            " [28 28]\n",
            " [74 74]\n",
            " [18 18]\n",
            " [83 83]]\n"
          ]
        }
      ],
      "source": [
        "print(X)"
      ]
    },
    {
      "cell_type": "code",
      "execution_count": 65,
      "metadata": {
        "colab": {
          "base_uri": "https://localhost:8080/",
          "height": 847
        },
        "id": "OLPnheWBqVeQ",
        "outputId": "729a0d94-4c14-4d1c-88f5-6a63555b4e83"
      },
      "outputs": [
        {
          "name": "stderr",
          "output_type": "stream",
          "text": [
            "/usr/local/lib/python3.10/dist-packages/sklearn/cluster/_kmeans.py:870: FutureWarning: The default value of `n_init` will change from 10 to 'auto' in 1.4. Set the value of `n_init` explicitly to suppress the warning\n",
            "  warnings.warn(\n",
            "/usr/local/lib/python3.10/dist-packages/sklearn/cluster/_kmeans.py:870: FutureWarning: The default value of `n_init` will change from 10 to 'auto' in 1.4. Set the value of `n_init` explicitly to suppress the warning\n",
            "  warnings.warn(\n",
            "/usr/local/lib/python3.10/dist-packages/sklearn/cluster/_kmeans.py:870: FutureWarning: The default value of `n_init` will change from 10 to 'auto' in 1.4. Set the value of `n_init` explicitly to suppress the warning\n",
            "  warnings.warn(\n",
            "/usr/local/lib/python3.10/dist-packages/sklearn/cluster/_kmeans.py:870: FutureWarning: The default value of `n_init` will change from 10 to 'auto' in 1.4. Set the value of `n_init` explicitly to suppress the warning\n",
            "  warnings.warn(\n",
            "/usr/local/lib/python3.10/dist-packages/sklearn/cluster/_kmeans.py:870: FutureWarning: The default value of `n_init` will change from 10 to 'auto' in 1.4. Set the value of `n_init` explicitly to suppress the warning\n",
            "  warnings.warn(\n",
            "/usr/local/lib/python3.10/dist-packages/sklearn/cluster/_kmeans.py:870: FutureWarning: The default value of `n_init` will change from 10 to 'auto' in 1.4. Set the value of `n_init` explicitly to suppress the warning\n",
            "  warnings.warn(\n",
            "/usr/local/lib/python3.10/dist-packages/sklearn/cluster/_kmeans.py:870: FutureWarning: The default value of `n_init` will change from 10 to 'auto' in 1.4. Set the value of `n_init` explicitly to suppress the warning\n",
            "  warnings.warn(\n",
            "/usr/local/lib/python3.10/dist-packages/sklearn/cluster/_kmeans.py:870: FutureWarning: The default value of `n_init` will change from 10 to 'auto' in 1.4. Set the value of `n_init` explicitly to suppress the warning\n",
            "  warnings.warn(\n",
            "/usr/local/lib/python3.10/dist-packages/sklearn/cluster/_kmeans.py:870: FutureWarning: The default value of `n_init` will change from 10 to 'auto' in 1.4. Set the value of `n_init` explicitly to suppress the warning\n",
            "  warnings.warn(\n",
            "/usr/local/lib/python3.10/dist-packages/sklearn/cluster/_kmeans.py:870: FutureWarning: The default value of `n_init` will change from 10 to 'auto' in 1.4. Set the value of `n_init` explicitly to suppress the warning\n",
            "  warnings.warn(\n"
          ]
        },
        {
          "data": {
            "image/png": "[encoded data removed]",
            "text/plain": [
              "<Figure size 640x480 with 1 Axes>"
            ]
          },
          "metadata": {},
          "output_type": "display_data"
        }
      ],
      "source": [
        "wcss = []\n",
        "\n",
        "num_clusters_range = range(1,11)\n",
        "\n",
        "for num_clusters in num_clusters_range:\n",
        "    kmeans = KMeans(n_clusters=num_clusters, init='k-means++', random_state=42)\n",
        "    kmeans.fit(X)\n",
        "\n",
        "    wcss.append(kmeans.inertia_)\n",
        "\n",
        "sns.set()\n",
        "plt.plot(range(1,11),wcss)\n",
        "plt.title('Elbow Method')\n",
        "plt.xlabel('Number of Clusters')\n",
        "plt.ylabel('WCSS')\n",
        "plt.show()\n"
      ]
    },
    {
      "cell_type": "code",
      "execution_count": 66,
      "metadata": {
        "colab": {
          "base_uri": "https://localhost:8080/"
        },
        "id": "IK9qRI9qw9bq",
        "outputId": "a165e9a4-98ae-4fa0-c192-5867a98719d6"
      },
      "outputs": [
        {
          "name": "stdout",
          "output_type": "stream",
          "text": [
            "[2 7 0 1 2 1 0 3 0 1 6 3 6 1 6 1 9 1 5 3 9 1 0 1 6 7 9 4 9 7 0 1 0 3 6 7 6\n",
            " 1 5 1 9 3 9 4 5 4 4 8 2 2 8 4 4 4 2 2 8 8 8 8 4 4 8 4 8 4 8 8 4 8 4 2 8 4\n",
            " 8 4 8 8 8 2 8 4 2 2 4 8 4 4 4 8 4 2 8 2 2 8 8 8 2 8 2 8 4 4 4 2 8 8 2 8 8\n",
            " 4 2 8 8 8 2 4 2 4 4 2 4 3 5 1 9 3 6 1 0 1 9 1 0 7 0 1 0 1 0 3 2 7 6 3 9 1\n",
            " 5 7 6 7 6 1 6 7 0 1 0 1 9 7 0 3 5 1 6 3 5 4 6 1 0 3 6 7 6 1 6 7 9 7 6 7 2\n",
            " 3 5 1 6 7 5 1 0 3 6 1 5 1 6 7]\n"
          ]
        },
        {
          "name": "stderr",
          "output_type": "stream",
          "text": [
            "/usr/local/lib/python3.10/dist-packages/sklearn/cluster/_kmeans.py:870: FutureWarning: The default value of `n_init` will change from 10 to 'auto' in 1.4. Set the value of `n_init` explicitly to suppress the warning\n",
            "  warnings.warn(\n"
          ]
        }
      ],
      "source": [
        "kmeans = KMeans(n_clusters=10, init='k-means++', random_state=42)\n",
        "\n",
        "Y = kmeans.fit_predict(X)\n",
        "\n",
        "print(Y)"
      ]
    },
    {
      "cell_type": "code",
      "execution_count": 67,
      "metadata": {
        "colab": {
          "base_uri": "https://localhost:8080/",
          "height": 727
        },
        "id": "dO0UPV7aZZvJ",
        "outputId": "ca3f9c34-700e-48be-cf8d-30bf63eb339e"
      },
      "outputs": [
        {
          "data": {
            "image/png": "[encoded data removed]",
            "text/plain": [
              "<Figure size 800x800 with 1 Axes>"
            ]
          },
          "metadata": {},
          "output_type": "display_data"
        }
      ],
      "source": [
        "plt.figure(figsize=(8,8))\n",
        "plt.scatter(X[Y==0,0], X[Y==0,1], s=50, c='green', label='cluster 1')\n",
        "plt.scatter(X[Y==1,0], X[Y==1,1], s=50, c='red', label='cluster 2')\n",
        "plt.scatter(X[Y==2,0], X[Y==2,1], s=50, c='yellow', label='cluster 3')\n",
        "plt.scatter(X[Y==3,0], X[Y==3,1], s=50, c='violet', label='cluster 4')\n",
        "plt.scatter(X[Y==4,0], X[Y==4,1], s=50, c='blue', label='cluster 5')\n",
        "\n",
        "plt.scatter(kmeans.cluster_centers_[:,0], kmeans.cluster_centers_[:,1], s=100, c='cyan', label='centroids')\n",
        "\n",
        "plt.title('Customer Groups')\n",
        "plt.xlabel('Annual Income')\n",
        "plt.ylabel('Spending Score')\n",
        "plt.show()\n"
      ]
    },
    {
      "cell_type": "code",
      "execution_count": 1,
      "metadata": {},
      "outputs": [
        {
          "ename": "NameError",
          "evalue": "name 'plt' is not defined",
          "output_type": "error",
          "traceback": [
            "\u001b[1;31m---------------------------------------------------------------------------\u001b[0m",
            "\u001b[1;31mNameError\u001b[0m                                 Traceback (most recent call last)",
            "Cell \u001b[1;32mIn[1], line 1\u001b[0m\n\u001b[1;32m----> 1\u001b[0m \u001b[43mplt\u001b[49m\u001b[38;5;241m.\u001b[39mfigure(figsize\u001b[38;5;241m=\u001b[39m(\u001b[38;5;241m10\u001b[39m, \u001b[38;5;241m6\u001b[39m))\n\u001b[0;32m      2\u001b[0m sns\u001b[38;5;241m.\u001b[39mscatterplot(x\u001b[38;5;241m=\u001b[39m\u001b[38;5;124m'\u001b[39m\u001b[38;5;124mAnnual Income (k$)\u001b[39m\u001b[38;5;124m'\u001b[39m, y\u001b[38;5;241m=\u001b[39m\u001b[38;5;124m'\u001b[39m\u001b[38;5;124mSpending Score (1-100)\u001b[39m\u001b[38;5;124m'\u001b[39m, hue\u001b[38;5;241m=\u001b[39m\u001b[38;5;124m'\u001b[39m\u001b[38;5;124mCluster\u001b[39m\u001b[38;5;124m'\u001b[39m, data\u001b[38;5;241m=\u001b[39mdf, palette\u001b[38;5;241m=\u001b[39m\u001b[38;5;124m'\u001b[39m\u001b[38;5;124mviridis\u001b[39m\u001b[38;5;124m'\u001b[39m)\n\u001b[0;32m      3\u001b[0m plt\u001b[38;5;241m.\u001b[39mtitle(\u001b[38;5;124m'\u001b[39m\u001b[38;5;124mClusters of Customers\u001b[39m\u001b[38;5;124m'\u001b[39m)\n",
            "\u001b[1;31mNameError\u001b[0m: name 'plt' is not defined"
          ]
        }
      ],
      "source": [
        "plt.figure(figsize=(10, 6))\n",
        "sns.scatterplot(x='Annual Income (k$)', y='Spending Score (1-100)', hue='Cluster', data=df, palette='viridis')\n",
        "plt.title('Clusters of Customers')\n",
        "plt.xlabel('Annual Income (k$)')\n",
        "plt.ylabel('Spending Score (1-100)')\n",
        "plt.legend()\n",
        "plt.show()"
      ]
    }
  ],
  "metadata": {
    "colab": {
      "provenance": []
    },
    "kernelspec": {
      "display_name": "Python 3",
      "name": "python3"
    },
    "language_info": {
      "codemirror_mode": {
        "name": "ipython",
        "version": 3
      },
      "file_extension": ".py",
      "mimetype": "text/x-python",
      "name": "python",
      "nbconvert_exporter": "python",
      "pygments_lexer": "ipython3",
      "version": "3.11.3"
    }
  },
  "nbformat": 4,
  "nbformat_minor": 0
}
